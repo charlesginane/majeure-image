{
 "cells": [
  {
   "cell_type": "markdown",
   "metadata": {},
   "source": [
    "EPITA 2019 MLRF practice_02-00_intro v2019-05-15_110221 by Joseph CHAZALON\n",
    "\n",
    "<div style=\"overflow: auto; padding: 10px; margin: 10px 0px\">\n",
    "<img alt=\"Creative Commons License\" src='img/CC-BY-4.0.png' style='float: left; margin-right: 20px'>\n",
    "    \n",
    "This work is licensed under a [Creative Commons Attribution 4.0 International License](http://creativecommons.org/licenses/by/4.0/).\n",
    "</div>"
   ]
  },
  {
   "cell_type": "markdown",
   "metadata": {},
   "source": [
    "# Practice session 2: Introduction\n",
    "\n",
    "## Goal\n",
    "The goal of this session is to automatically detect the twin bubbles in the *Twin it!* game.\n",
    "\n",
    "\n",
    "## Warning: resource location\n",
    "We stored the resources you need for this session under `/afs/cri.epita.net/resources/teach/bigdata/mlrf19/`.\n",
    "\n",
    "\n",
    "## Warning: environment configuration\n",
    "To avoid space issues related with PIP installation, and to be able to reuse your work environment between sessions, you need to:\n",
    "1. Execute **only once** (do not relaunch it if you already did it in the past) the following script: `/afs/cri.epita.net/resources/teach/bigdata/install.sh`\n",
    "2. Execute **everytime you start a new session** the following script: `/afs/cri.epita.net/resources/teach/bigdata/configure.sh`\n",
    "\n",
    "## Agenda\n",
    "\n",
    "The session is organised as follows:\n",
    "1. [Color Histograms](practice_02-01_color-histogram.ipynb)\n",
    "2. [Keypoint detection and description](practice_02-02_detection-description.ipynb)\n",
    "3. [Match keypoints and solve *Twin it!*](practice_02-03_twinit-part2-matching.ipynb)\n",
    "\n",
    "\n",
    "## What you need to do\n",
    "Make sure you read and understand everything, and complete all the required actions.\n",
    "**Required actions** are preceded by the following sign:\n",
    "![Back to work!](img/work.png)"
   ]
  },
  {
   "cell_type": "code",
   "execution_count": null,
   "metadata": {},
   "outputs": [],
   "source": []
  },
  {
   "cell_type": "markdown",
   "metadata": {},
   "source": [
    "# Let's get started!\n",
    "Now you're ready to move on to the next stage: [Color Histograms](practice_02-01_color-histogram.ipynb)."
   ]
  },
  {
   "cell_type": "code",
   "execution_count": null,
   "metadata": {},
   "outputs": [],
   "source": []
  }
 ],
 "metadata": {
  "kernelspec": {
   "display_name": "Python 3",
   "language": "python",
   "name": "python3"
  },
  "language_info": {
   "codemirror_mode": {
    "name": "ipython",
    "version": 3
   },
   "file_extension": ".py",
   "mimetype": "text/x-python",
   "name": "python",
   "nbconvert_exporter": "python",
   "pygments_lexer": "ipython3",
   "version": "3.7.3"
  },
  "nbTranslate": {
   "displayLangs": [
    "*"
   ],
   "hotkey": "alt-t",
   "langInMainMenu": true,
   "sourceLang": "en",
   "targetLang": "fr",
   "useGoogleTranslate": true
  }
 },
 "nbformat": 4,
 "nbformat_minor": 2
}
